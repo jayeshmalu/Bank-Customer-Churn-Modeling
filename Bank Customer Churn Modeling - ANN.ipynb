{
 "cells": [
  {
   "cell_type": "markdown",
   "metadata": {
    "colab_type": "text",
    "id": "lP6JLo1tGNBg"
   },
   "source": [
    "# Artificial Neural Network"
   ]
  },
  {
   "cell_type": "markdown",
   "metadata": {
    "colab_type": "text",
    "id": "gWZyYmS_UE_L"
   },
   "source": [
    "### Importing the libraries"
   ]
  },
  {
   "cell_type": "code",
   "execution_count": 1,
   "metadata": {
    "colab": {},
    "colab_type": "code",
    "id": "MxkJoQBkUIHC"
   },
   "outputs": [],
   "source": [
    "import numpy as np\n",
    "import pandas as pd\n",
    "import warnings\n",
    "warnings.filterwarnings(\"ignore\", category=DeprecationWarning) \n",
    "warnings.simplefilter(action='ignore', category=FutureWarning)\n",
    "import tensorflow as tf"
   ]
  },
  {
   "cell_type": "markdown",
   "metadata": {
    "colab_type": "text",
    "id": "1E0Q3aoKUCRX"
   },
   "source": [
    "## Part 1 - Data Preprocessing"
   ]
  },
  {
   "cell_type": "markdown",
   "metadata": {
    "colab_type": "text",
    "id": "cKWAkFVGUU0Z"
   },
   "source": [
    "### Importing the dataset"
   ]
  },
  {
   "cell_type": "code",
   "execution_count": 2,
   "metadata": {},
   "outputs": [
    {
     "data": {
      "text/html": [
       "<div>\n",
       "<style scoped>\n",
       "    .dataframe tbody tr th:only-of-type {\n",
       "        vertical-align: middle;\n",
       "    }\n",
       "\n",
       "    .dataframe tbody tr th {\n",
       "        vertical-align: top;\n",
       "    }\n",
       "\n",
       "    .dataframe thead th {\n",
       "        text-align: right;\n",
       "    }\n",
       "</style>\n",
       "<table border=\"1\" class=\"dataframe\">\n",
       "  <thead>\n",
       "    <tr style=\"text-align: right;\">\n",
       "      <th></th>\n",
       "      <th>RowNumber</th>\n",
       "      <th>CustomerId</th>\n",
       "      <th>Surname</th>\n",
       "      <th>CreditScore</th>\n",
       "      <th>Geography</th>\n",
       "      <th>Gender</th>\n",
       "      <th>Age</th>\n",
       "      <th>Tenure</th>\n",
       "      <th>Balance</th>\n",
       "      <th>NumOfProducts</th>\n",
       "      <th>HasCrCard</th>\n",
       "      <th>IsActiveMember</th>\n",
       "      <th>EstimatedSalary</th>\n",
       "      <th>Exited</th>\n",
       "    </tr>\n",
       "  </thead>\n",
       "  <tbody>\n",
       "    <tr>\n",
       "      <th>0</th>\n",
       "      <td>1</td>\n",
       "      <td>15634602</td>\n",
       "      <td>Hargrave</td>\n",
       "      <td>619</td>\n",
       "      <td>France</td>\n",
       "      <td>Female</td>\n",
       "      <td>42</td>\n",
       "      <td>2</td>\n",
       "      <td>0.00</td>\n",
       "      <td>1</td>\n",
       "      <td>1</td>\n",
       "      <td>1</td>\n",
       "      <td>101348.88</td>\n",
       "      <td>1</td>\n",
       "    </tr>\n",
       "    <tr>\n",
       "      <th>1</th>\n",
       "      <td>2</td>\n",
       "      <td>15647311</td>\n",
       "      <td>Hill</td>\n",
       "      <td>608</td>\n",
       "      <td>Spain</td>\n",
       "      <td>Female</td>\n",
       "      <td>41</td>\n",
       "      <td>1</td>\n",
       "      <td>83807.86</td>\n",
       "      <td>1</td>\n",
       "      <td>0</td>\n",
       "      <td>1</td>\n",
       "      <td>112542.58</td>\n",
       "      <td>0</td>\n",
       "    </tr>\n",
       "    <tr>\n",
       "      <th>2</th>\n",
       "      <td>3</td>\n",
       "      <td>15619304</td>\n",
       "      <td>Onio</td>\n",
       "      <td>502</td>\n",
       "      <td>France</td>\n",
       "      <td>Female</td>\n",
       "      <td>42</td>\n",
       "      <td>8</td>\n",
       "      <td>159660.80</td>\n",
       "      <td>3</td>\n",
       "      <td>1</td>\n",
       "      <td>0</td>\n",
       "      <td>113931.57</td>\n",
       "      <td>1</td>\n",
       "    </tr>\n",
       "    <tr>\n",
       "      <th>3</th>\n",
       "      <td>4</td>\n",
       "      <td>15701354</td>\n",
       "      <td>Boni</td>\n",
       "      <td>699</td>\n",
       "      <td>France</td>\n",
       "      <td>Female</td>\n",
       "      <td>39</td>\n",
       "      <td>1</td>\n",
       "      <td>0.00</td>\n",
       "      <td>2</td>\n",
       "      <td>0</td>\n",
       "      <td>0</td>\n",
       "      <td>93826.63</td>\n",
       "      <td>0</td>\n",
       "    </tr>\n",
       "    <tr>\n",
       "      <th>4</th>\n",
       "      <td>5</td>\n",
       "      <td>15737888</td>\n",
       "      <td>Mitchell</td>\n",
       "      <td>850</td>\n",
       "      <td>Spain</td>\n",
       "      <td>Female</td>\n",
       "      <td>43</td>\n",
       "      <td>2</td>\n",
       "      <td>125510.82</td>\n",
       "      <td>1</td>\n",
       "      <td>1</td>\n",
       "      <td>1</td>\n",
       "      <td>79084.10</td>\n",
       "      <td>0</td>\n",
       "    </tr>\n",
       "  </tbody>\n",
       "</table>\n",
       "</div>"
      ],
      "text/plain": [
       "   RowNumber  CustomerId   Surname  CreditScore Geography  Gender  Age  \\\n",
       "0          1    15634602  Hargrave          619    France  Female   42   \n",
       "1          2    15647311      Hill          608     Spain  Female   41   \n",
       "2          3    15619304      Onio          502    France  Female   42   \n",
       "3          4    15701354      Boni          699    France  Female   39   \n",
       "4          5    15737888  Mitchell          850     Spain  Female   43   \n",
       "\n",
       "   Tenure    Balance  NumOfProducts  HasCrCard  IsActiveMember  \\\n",
       "0       2       0.00              1          1               1   \n",
       "1       1   83807.86              1          0               1   \n",
       "2       8  159660.80              3          1               0   \n",
       "3       1       0.00              2          0               0   \n",
       "4       2  125510.82              1          1               1   \n",
       "\n",
       "   EstimatedSalary  Exited  \n",
       "0        101348.88       1  \n",
       "1        112542.58       0  \n",
       "2        113931.57       1  \n",
       "3         93826.63       0  \n",
       "4         79084.10       0  "
      ]
     },
     "execution_count": 2,
     "metadata": {},
     "output_type": "execute_result"
    }
   ],
   "source": [
    "dataset = pd.read_csv('Churn_Modelling.csv')\n",
    "# dataset.drop(['RowNumber'],axis=1,inplace=True)\n",
    "dataset.head()"
   ]
  },
  {
   "cell_type": "code",
   "execution_count": 3,
   "metadata": {
    "colab": {},
    "colab_type": "code",
    "id": "MXUkhkMfU4wq"
   },
   "outputs": [],
   "source": [
    "\n",
    "X = dataset.iloc[:, 3:-1].values\n",
    "y = dataset.iloc[:, -1].values"
   ]
  },
  {
   "cell_type": "code",
   "execution_count": 4,
   "metadata": {
    "colab": {
     "base_uri": "https://localhost:8080/",
     "height": 134
    },
    "colab_type": "code",
    "executionInfo": {
     "elapsed": 2782,
     "status": "ok",
     "timestamp": 1586428376541,
     "user": {
      "displayName": "Hadelin de Ponteves",
      "photoUrl": "https://lh3.googleusercontent.com/a-/AOh14GhEuXdT7eQweUmRPW8_laJuPggSK6hfvpl5a6WBaA=s64",
      "userId": "15047218817161520419"
     },
     "user_tz": -240
    },
    "id": "VYP9cQTWbzuI",
    "outputId": "38e3588f-f2e3-436b-bdc5-2967d495155c"
   },
   "outputs": [
    {
     "name": "stdout",
     "output_type": "stream",
     "text": [
      "[[619 'France' 'Female' ... 1 1 101348.88]\n",
      " [608 'Spain' 'Female' ... 0 1 112542.58]\n",
      " [502 'France' 'Female' ... 1 0 113931.57]\n",
      " ...\n",
      " [709 'France' 'Female' ... 0 1 42085.58]\n",
      " [772 'Germany' 'Male' ... 1 0 92888.52]\n",
      " [792 'France' 'Female' ... 1 0 38190.78]]\n"
     ]
    }
   ],
   "source": [
    "print(X)"
   ]
  },
  {
   "cell_type": "code",
   "execution_count": 5,
   "metadata": {
    "colab": {
     "base_uri": "https://localhost:8080/",
     "height": 34
    },
    "colab_type": "code",
    "executionInfo": {
     "elapsed": 2780,
     "status": "ok",
     "timestamp": 1586428376541,
     "user": {
      "displayName": "Hadelin de Ponteves",
      "photoUrl": "https://lh3.googleusercontent.com/a-/AOh14GhEuXdT7eQweUmRPW8_laJuPggSK6hfvpl5a6WBaA=s64",
      "userId": "15047218817161520419"
     },
     "user_tz": -240
    },
    "id": "38vKGE6Nb2RR",
    "outputId": "2abeb945-135e-460f-99e9-9967abe198d1"
   },
   "outputs": [
    {
     "name": "stdout",
     "output_type": "stream",
     "text": [
      "[1 0 1 ... 1 1 0]\n"
     ]
    }
   ],
   "source": [
    "print(y)"
   ]
  },
  {
   "cell_type": "markdown",
   "metadata": {
    "colab_type": "text",
    "id": "N6bQ0UgSU-NJ"
   },
   "source": [
    "### Encoding categorical data"
   ]
  },
  {
   "cell_type": "markdown",
   "metadata": {
    "colab_type": "text",
    "id": "le5MJreAbW52"
   },
   "source": [
    "Label Encoding the \"Gender\" column"
   ]
  },
  {
   "cell_type": "code",
   "execution_count": 6,
   "metadata": {
    "colab": {},
    "colab_type": "code",
    "id": "PxVKWXxLbczC"
   },
   "outputs": [],
   "source": [
    "from sklearn.preprocessing import LabelEncoder\n",
    "le = LabelEncoder()\n",
    "X[:, 2] = le.fit_transform(X[:, 2])"
   ]
  },
  {
   "cell_type": "code",
   "execution_count": 7,
   "metadata": {
    "colab": {
     "base_uri": "https://localhost:8080/",
     "height": 134
    },
    "colab_type": "code",
    "executionInfo": {
     "elapsed": 2775,
     "status": "ok",
     "timestamp": 1586428376542,
     "user": {
      "displayName": "Hadelin de Ponteves",
      "photoUrl": "https://lh3.googleusercontent.com/a-/AOh14GhEuXdT7eQweUmRPW8_laJuPggSK6hfvpl5a6WBaA=s64",
      "userId": "15047218817161520419"
     },
     "user_tz": -240
    },
    "id": "-M1KboxFb6OO",
    "outputId": "c7b742e2-7afb-4fb9-c6b4-ffeb3c4812f1"
   },
   "outputs": [
    {
     "name": "stdout",
     "output_type": "stream",
     "text": [
      "[[619 'France' 0 ... 1 1 101348.88]\n",
      " [608 'Spain' 0 ... 0 1 112542.58]\n",
      " [502 'France' 0 ... 1 0 113931.57]\n",
      " ...\n",
      " [709 'France' 0 ... 0 1 42085.58]\n",
      " [772 'Germany' 1 ... 1 0 92888.52]\n",
      " [792 'France' 0 ... 1 0 38190.78]]\n"
     ]
    }
   ],
   "source": [
    "print(X)"
   ]
  },
  {
   "cell_type": "markdown",
   "metadata": {
    "colab_type": "text",
    "id": "CUxGZezpbMcb"
   },
   "source": [
    "One Hot Encoding the \"Geography\" column"
   ]
  },
  {
   "cell_type": "code",
   "execution_count": 8,
   "metadata": {
    "colab": {},
    "colab_type": "code",
    "id": "AMXC8-KMVirw"
   },
   "outputs": [],
   "source": [
    "from sklearn.compose import ColumnTransformer\n",
    "from sklearn.preprocessing import OneHotEncoder\n",
    "ct = ColumnTransformer(transformers=[('encoder', OneHotEncoder(), [1])], remainder='passthrough')\n",
    "X = np.array(ct.fit_transform(X))"
   ]
  },
  {
   "cell_type": "code",
   "execution_count": 9,
   "metadata": {
    "colab": {
     "base_uri": "https://localhost:8080/",
     "height": 134
    },
    "colab_type": "code",
    "executionInfo": {
     "elapsed": 2768,
     "status": "ok",
     "timestamp": 1586428376543,
     "user": {
      "displayName": "Hadelin de Ponteves",
      "photoUrl": "https://lh3.googleusercontent.com/a-/AOh14GhEuXdT7eQweUmRPW8_laJuPggSK6hfvpl5a6WBaA=s64",
      "userId": "15047218817161520419"
     },
     "user_tz": -240
    },
    "id": "ZcxwEon-b8nV",
    "outputId": "9c88c069-f799-4e3b-be4b-24d8e17611fd"
   },
   "outputs": [
    {
     "name": "stdout",
     "output_type": "stream",
     "text": [
      "[[1.0 0.0 0.0 ... 1 1 101348.88]\n",
      " [0.0 0.0 1.0 ... 0 1 112542.58]\n",
      " [1.0 0.0 0.0 ... 1 0 113931.57]\n",
      " ...\n",
      " [1.0 0.0 0.0 ... 0 1 42085.58]\n",
      " [0.0 1.0 0.0 ... 1 0 92888.52]\n",
      " [1.0 0.0 0.0 ... 1 0 38190.78]]\n"
     ]
    }
   ],
   "source": [
    "print(X)"
   ]
  },
  {
   "cell_type": "markdown",
   "metadata": {
    "colab_type": "text",
    "id": "RE_FcHyfV3TQ"
   },
   "source": [
    "### Feature Scaling"
   ]
  },
  {
   "cell_type": "code",
   "execution_count": 10,
   "metadata": {
    "colab": {},
    "colab_type": "code",
    "id": "ViCrE00rV8Sk"
   },
   "outputs": [],
   "source": [
    "from sklearn.preprocessing import StandardScaler\n",
    "sc = StandardScaler()\n",
    "X = sc.fit_transform(X)"
   ]
  },
  {
   "cell_type": "code",
   "execution_count": 11,
   "metadata": {
    "colab": {
     "base_uri": "https://localhost:8080/",
     "height": 235
    },
    "colab_type": "code",
    "executionInfo": {
     "elapsed": 2760,
     "status": "ok",
     "timestamp": 1586428376544,
     "user": {
      "displayName": "Hadelin de Ponteves",
      "photoUrl": "https://lh3.googleusercontent.com/a-/AOh14GhEuXdT7eQweUmRPW8_laJuPggSK6hfvpl5a6WBaA=s64",
      "userId": "15047218817161520419"
     },
     "user_tz": -240
    },
    "id": "De3UsJwXdfMz",
    "outputId": "dde0e114-7250-42b5-d54d-047faebba5e1"
   },
   "outputs": [
    {
     "name": "stdout",
     "output_type": "stream",
     "text": [
      "[[ 0.99720391 -0.57873591 -0.57380915 ...  0.64609167  0.97024255\n",
      "   0.02188649]\n",
      " [-1.00280393 -0.57873591  1.74273971 ... -1.54776799  0.97024255\n",
      "   0.21653375]\n",
      " [ 0.99720391 -0.57873591 -0.57380915 ...  0.64609167 -1.03067011\n",
      "   0.2406869 ]\n",
      " ...\n",
      " [ 0.99720391 -0.57873591 -0.57380915 ... -1.54776799  0.97024255\n",
      "  -1.00864308]\n",
      " [-1.00280393  1.72790383 -0.57380915 ...  0.64609167 -1.03067011\n",
      "  -0.12523071]\n",
      " [ 0.99720391 -0.57873591 -0.57380915 ...  0.64609167 -1.03067011\n",
      "  -1.07636976]]\n"
     ]
    }
   ],
   "source": [
    "print(X)"
   ]
  },
  {
   "cell_type": "markdown",
   "metadata": {
    "colab_type": "text",
    "id": "vHol938cW8zd"
   },
   "source": [
    "### Splitting the dataset into the Training set and Test set"
   ]
  },
  {
   "cell_type": "code",
   "execution_count": 12,
   "metadata": {
    "colab": {},
    "colab_type": "code",
    "id": "Z-TDt0Y_XEfc"
   },
   "outputs": [],
   "source": [
    "from sklearn.model_selection import train_test_split\n",
    "X_train, X_test, y_train, y_test = train_test_split(X, y, test_size = 0.2, random_state = 0)"
   ]
  },
  {
   "cell_type": "markdown",
   "metadata": {
    "colab_type": "text",
    "id": "-zfEzkRVXIwF"
   },
   "source": [
    "## Part 2 - Building the ANN"
   ]
  },
  {
   "cell_type": "markdown",
   "metadata": {
    "colab_type": "text",
    "id": "KvdeScabXtlB"
   },
   "source": [
    "### Initializing the ANN"
   ]
  },
  {
   "cell_type": "code",
   "execution_count": 13,
   "metadata": {
    "colab": {},
    "colab_type": "code",
    "id": "3dtrScHxXQox"
   },
   "outputs": [],
   "source": [
    "ann = tf.keras.models.Sequential()"
   ]
  },
  {
   "cell_type": "markdown",
   "metadata": {
    "colab_type": "text",
    "id": "rP6urV6SX7kS"
   },
   "source": [
    "### Adding the input layer and the first hidden layer"
   ]
  },
  {
   "cell_type": "code",
   "execution_count": 14,
   "metadata": {
    "colab": {},
    "colab_type": "code",
    "id": "bppGycBXYCQr"
   },
   "outputs": [
    {
     "name": "stdout",
     "output_type": "stream",
     "text": [
      "WARNING:tensorflow:From C:\\Users\\Jayesh\\Anaconda3\\lib\\site-packages\\tensorflow\\python\\ops\\init_ops.py:1251: calling VarianceScaling.__init__ (from tensorflow.python.ops.init_ops) with dtype is deprecated and will be removed in a future version.\n",
      "Instructions for updating:\n",
      "Call initializer instance with the dtype argument instead of passing it to the constructor\n"
     ]
    }
   ],
   "source": [
    "ann.add(tf.keras.layers.Dense(units=6, activation='relu'))"
   ]
  },
  {
   "cell_type": "markdown",
   "metadata": {
    "colab_type": "text",
    "id": "BELWAc_8YJze"
   },
   "source": [
    "### Adding the second hidden layer"
   ]
  },
  {
   "cell_type": "code",
   "execution_count": 15,
   "metadata": {
    "colab": {},
    "colab_type": "code",
    "id": "JneR0u0sYRTd"
   },
   "outputs": [],
   "source": [
    "ann.add(tf.keras.layers.Dense(units=6, activation='relu'))"
   ]
  },
  {
   "cell_type": "markdown",
   "metadata": {
    "colab_type": "text",
    "id": "OyNEe6RXYcU4"
   },
   "source": [
    "### Adding the output layer"
   ]
  },
  {
   "cell_type": "code",
   "execution_count": 16,
   "metadata": {
    "colab": {},
    "colab_type": "code",
    "id": "Cn3x41RBYfvY"
   },
   "outputs": [],
   "source": [
    "ann.add(tf.keras.layers.Dense(units=1, activation='sigmoid'))"
   ]
  },
  {
   "cell_type": "markdown",
   "metadata": {
    "colab_type": "text",
    "id": "JT4u2S1_Y4WG"
   },
   "source": [
    "## Training the ANN"
   ]
  },
  {
   "cell_type": "markdown",
   "metadata": {
    "colab_type": "text",
    "id": "8GWlJChhY_ZI"
   },
   "source": [
    "### Compiling the ANN"
   ]
  },
  {
   "cell_type": "code",
   "execution_count": 17,
   "metadata": {
    "colab": {},
    "colab_type": "code",
    "id": "fG3RrwDXZEaS"
   },
   "outputs": [],
   "source": [
    "ann.compile(optimizer = 'adam', loss = 'binary_crossentropy', metrics = ['accuracy'])"
   ]
  },
  {
   "cell_type": "markdown",
   "metadata": {
    "colab_type": "text",
    "id": "0QR_G5u7ZLSM"
   },
   "source": [
    "### Training the ANN on the Training set"
   ]
  },
  {
   "cell_type": "code",
   "execution_count": 18,
   "metadata": {
    "colab": {
     "base_uri": "https://localhost:8080/",
     "height": 1000
    },
    "colab_type": "code",
    "executionInfo": {
     "elapsed": 31750,
     "status": "ok",
     "timestamp": 1586428405580,
     "user": {
      "displayName": "Hadelin de Ponteves",
      "photoUrl": "https://lh3.googleusercontent.com/a-/AOh14GhEuXdT7eQweUmRPW8_laJuPggSK6hfvpl5a6WBaA=s64",
      "userId": "15047218817161520419"
     },
     "user_tz": -240
    },
    "id": "nHZ-LKv_ZRb3",
    "outputId": "6a90f176-803d-4b03-e65f-c05bda6f519c",
    "scrolled": true
   },
   "outputs": [
    {
     "name": "stdout",
     "output_type": "stream",
     "text": [
      "WARNING:tensorflow:From C:\\Users\\Jayesh\\Anaconda3\\lib\\site-packages\\tensorflow\\python\\ops\\nn_impl.py:180: add_dispatch_support.<locals>.wrapper (from tensorflow.python.ops.array_ops) is deprecated and will be removed in a future version.\n",
      "Instructions for updating:\n",
      "Use tf.where in 2.0, which has the same broadcast rule as np.where\n",
      "Epoch 1/100\n",
      "8000/8000 [==============================] - 1s 119us/sample - loss: 0.5544 - acc: 0.7526\n",
      "Epoch 2/100\n",
      "8000/8000 [==============================] - 0s 55us/sample - loss: 0.4567 - acc: 0.8034\n",
      "Epoch 3/100\n",
      "8000/8000 [==============================] - 0s 54us/sample - loss: 0.4323 - acc: 0.8144\n",
      "Epoch 4/100\n",
      "8000/8000 [==============================] - 0s 55us/sample - loss: 0.4218 - acc: 0.8201\n",
      "Epoch 5/100\n",
      "8000/8000 [==============================] - 0s 56us/sample - loss: 0.4157 - acc: 0.8219\n",
      "Epoch 6/100\n",
      "8000/8000 [==============================] - 0s 56us/sample - loss: 0.4123 - acc: 0.8234\n",
      "Epoch 7/100\n",
      "8000/8000 [==============================] - 0s 57us/sample - loss: 0.4082 - acc: 0.8259\n",
      "Epoch 8/100\n",
      "8000/8000 [==============================] - 0s 54us/sample - loss: 0.4055 - acc: 0.8279\n",
      "Epoch 9/100\n",
      "8000/8000 [==============================] - 1s 68us/sample - loss: 0.4024 - acc: 0.8269\n",
      "Epoch 10/100\n",
      "8000/8000 [==============================] - 1s 64us/sample - loss: 0.3993 - acc: 0.8282\n",
      "Epoch 11/100\n",
      "8000/8000 [==============================] - 0s 61us/sample - loss: 0.3957 - acc: 0.8300\n",
      "Epoch 12/100\n",
      "8000/8000 [==============================] - 0s 53us/sample - loss: 0.3926 - acc: 0.8307\n",
      "Epoch 13/100\n",
      "8000/8000 [==============================] - 0s 51us/sample - loss: 0.3895 - acc: 0.8325\n",
      "Epoch 14/100\n",
      "8000/8000 [==============================] - 0s 52us/sample - loss: 0.3868 - acc: 0.8340\n",
      "Epoch 15/100\n",
      "8000/8000 [==============================] - 0s 51us/sample - loss: 0.3843 - acc: 0.8329\n",
      "Epoch 16/100\n",
      "8000/8000 [==============================] - 0s 51us/sample - loss: 0.3822 - acc: 0.8316\n",
      "Epoch 17/100\n",
      "8000/8000 [==============================] - 0s 51us/sample - loss: 0.3797 - acc: 0.8354\n",
      "Epoch 18/100\n",
      "8000/8000 [==============================] - 0s 61us/sample - loss: 0.3781 - acc: 0.8345\n",
      "Epoch 19/100\n",
      "8000/8000 [==============================] - 1s 64us/sample - loss: 0.3759 - acc: 0.83350s - loss: 0.3820 - acc:\n",
      "Epoch 20/100\n",
      "8000/8000 [==============================] - 0s 54us/sample - loss: 0.3742 - acc: 0.8378\n",
      "Epoch 21/100\n",
      "8000/8000 [==============================] - 0s 53us/sample - loss: 0.3717 - acc: 0.8425\n",
      "Epoch 22/100\n",
      "8000/8000 [==============================] - 1s 74us/sample - loss: 0.3701 - acc: 0.8431\n",
      "Epoch 23/100\n",
      "8000/8000 [==============================] - 0s 53us/sample - loss: 0.3681 - acc: 0.8461\n",
      "Epoch 24/100\n",
      "8000/8000 [==============================] - 1s 75us/sample - loss: 0.3671 - acc: 0.8481\n",
      "Epoch 25/100\n",
      "8000/8000 [==============================] - 1s 67us/sample - loss: 0.3649 - acc: 0.8505\n",
      "Epoch 26/100\n",
      "8000/8000 [==============================] - 1s 88us/sample - loss: 0.3634 - acc: 0.8506\n",
      "Epoch 27/100\n",
      "8000/8000 [==============================] - 1s 99us/sample - loss: 0.3619 - acc: 0.8511\n",
      "Epoch 28/100\n",
      "8000/8000 [==============================] - 0s 52us/sample - loss: 0.3607 - acc: 0.8508\n",
      "Epoch 29/100\n",
      "8000/8000 [==============================] - 0s 52us/sample - loss: 0.3591 - acc: 0.8516\n",
      "Epoch 30/100\n",
      "8000/8000 [==============================] - 1s 65us/sample - loss: 0.3580 - acc: 0.8525\n",
      "Epoch 31/100\n",
      "8000/8000 [==============================] - 1s 68us/sample - loss: 0.3566 - acc: 0.8535\n",
      "Epoch 32/100\n",
      "8000/8000 [==============================] - 1s 64us/sample - loss: 0.3556 - acc: 0.8539\n",
      "Epoch 33/100\n",
      "8000/8000 [==============================] - 1s 68us/sample - loss: 0.3542 - acc: 0.8522\n",
      "Epoch 34/100\n",
      "8000/8000 [==============================] - 1s 69us/sample - loss: 0.3539 - acc: 0.8547\n",
      "Epoch 35/100\n",
      "8000/8000 [==============================] - 1s 65us/sample - loss: 0.3527 - acc: 0.8545\n",
      "Epoch 36/100\n",
      "8000/8000 [==============================] - 1s 64us/sample - loss: 0.3519 - acc: 0.8556\n",
      "Epoch 37/100\n",
      "8000/8000 [==============================] - 0s 54us/sample - loss: 0.3507 - acc: 0.8562\n",
      "Epoch 38/100\n",
      "8000/8000 [==============================] - 1s 64us/sample - loss: 0.3496 - acc: 0.8564\n",
      "Epoch 39/100\n",
      "8000/8000 [==============================] - 0s 57us/sample - loss: 0.3492 - acc: 0.8577\n",
      "Epoch 40/100\n",
      "8000/8000 [==============================] - 0s 58us/sample - loss: 0.3480 - acc: 0.8562\n",
      "Epoch 41/100\n",
      "8000/8000 [==============================] - 0s 59us/sample - loss: 0.3479 - acc: 0.8566\n",
      "Epoch 42/100\n",
      "8000/8000 [==============================] - 0s 52us/sample - loss: 0.3470 - acc: 0.8581\n",
      "Epoch 43/100\n",
      "8000/8000 [==============================] - 0s 57us/sample - loss: 0.3469 - acc: 0.8579\n",
      "Epoch 44/100\n",
      "8000/8000 [==============================] - 0s 57us/sample - loss: 0.3467 - acc: 0.8569\n",
      "Epoch 45/100\n",
      "8000/8000 [==============================] - 0s 56us/sample - loss: 0.3457 - acc: 0.8577\n",
      "Epoch 46/100\n",
      "8000/8000 [==============================] - 0s 54us/sample - loss: 0.3451 - acc: 0.8596\n",
      "Epoch 47/100\n",
      "8000/8000 [==============================] - 0s 54us/sample - loss: 0.3443 - acc: 0.8587\n",
      "Epoch 48/100\n",
      "8000/8000 [==============================] - 0s 54us/sample - loss: 0.3441 - acc: 0.8593\n",
      "Epoch 49/100\n",
      "8000/8000 [==============================] - 0s 53us/sample - loss: 0.3435 - acc: 0.8584\n",
      "Epoch 50/100\n",
      "8000/8000 [==============================] - 0s 55us/sample - loss: 0.3440 - acc: 0.8562\n",
      "Epoch 51/100\n",
      "8000/8000 [==============================] - 0s 56us/sample - loss: 0.3433 - acc: 0.8571\n",
      "Epoch 52/100\n",
      "8000/8000 [==============================] - 0s 54us/sample - loss: 0.3428 - acc: 0.8597\n",
      "Epoch 53/100\n",
      "8000/8000 [==============================] - 0s 55us/sample - loss: 0.3415 - acc: 0.8599\n",
      "Epoch 54/100\n",
      "8000/8000 [==============================] - 0s 54us/sample - loss: 0.3413 - acc: 0.8594\n",
      "Epoch 55/100\n",
      "8000/8000 [==============================] - 0s 55us/sample - loss: 0.3412 - acc: 0.8605\n",
      "Epoch 56/100\n",
      "8000/8000 [==============================] - 0s 53us/sample - loss: 0.3400 - acc: 0.8612\n",
      "Epoch 57/100\n",
      "8000/8000 [==============================] - 0s 53us/sample - loss: 0.3398 - acc: 0.8605\n",
      "Epoch 58/100\n",
      "8000/8000 [==============================] - 0s 54us/sample - loss: 0.3400 - acc: 0.8604\n",
      "Epoch 59/100\n",
      "8000/8000 [==============================] - 0s 59us/sample - loss: 0.3402 - acc: 0.8615\n",
      "Epoch 60/100\n",
      "8000/8000 [==============================] - 0s 55us/sample - loss: 0.3394 - acc: 0.8606\n",
      "Epoch 61/100\n",
      "8000/8000 [==============================] - 0s 56us/sample - loss: 0.3387 - acc: 0.8606\n",
      "Epoch 62/100\n",
      "8000/8000 [==============================] - 0s 54us/sample - loss: 0.3388 - acc: 0.8611\n",
      "Epoch 63/100\n",
      "8000/8000 [==============================] - 0s 54us/sample - loss: 0.3383 - acc: 0.8614\n",
      "Epoch 64/100\n",
      "8000/8000 [==============================] - 0s 59us/sample - loss: 0.3377 - acc: 0.8630\n",
      "Epoch 65/100\n",
      "8000/8000 [==============================] - 1s 69us/sample - loss: 0.3375 - acc: 0.8624\n",
      "Epoch 66/100\n",
      "8000/8000 [==============================] - 1s 70us/sample - loss: 0.3372 - acc: 0.8600\n",
      "Epoch 67/100\n",
      "8000/8000 [==============================] - 1s 69us/sample - loss: 0.3376 - acc: 0.8600\n",
      "Epoch 68/100\n",
      "8000/8000 [==============================] - 0s 62us/sample - loss: 0.3372 - acc: 0.8606\n",
      "Epoch 69/100\n",
      "8000/8000 [==============================] - 0s 57us/sample - loss: 0.3368 - acc: 0.8620\n",
      "Epoch 70/100\n",
      "8000/8000 [==============================] - 0s 54us/sample - loss: 0.3372 - acc: 0.8614\n",
      "Epoch 71/100\n",
      "8000/8000 [==============================] - 0s 56us/sample - loss: 0.3366 - acc: 0.8621\n",
      "Epoch 72/100\n",
      "8000/8000 [==============================] - 0s 59us/sample - loss: 0.3366 - acc: 0.8621\n",
      "Epoch 73/100\n",
      "8000/8000 [==============================] - 0s 55us/sample - loss: 0.3362 - acc: 0.8609\n",
      "Epoch 74/100\n",
      "8000/8000 [==============================] - 0s 56us/sample - loss: 0.3364 - acc: 0.8621\n",
      "Epoch 75/100\n",
      "8000/8000 [==============================] - 0s 62us/sample - loss: 0.3358 - acc: 0.8616\n",
      "Epoch 76/100\n",
      "8000/8000 [==============================] - 0s 57us/sample - loss: 0.3361 - acc: 0.8619\n",
      "Epoch 77/100\n"
     ]
    },
    {
     "name": "stdout",
     "output_type": "stream",
     "text": [
      "8000/8000 [==============================] - 0s 51us/sample - loss: 0.3358 - acc: 0.8634\n",
      "Epoch 78/100\n",
      "8000/8000 [==============================] - 0s 51us/sample - loss: 0.3353 - acc: 0.8633\n",
      "Epoch 79/100\n",
      "8000/8000 [==============================] - 0s 50us/sample - loss: 0.3350 - acc: 0.8629\n",
      "Epoch 80/100\n",
      "8000/8000 [==============================] - 0s 50us/sample - loss: 0.3350 - acc: 0.8644\n",
      "Epoch 81/100\n",
      "8000/8000 [==============================] - 0s 51us/sample - loss: 0.3346 - acc: 0.8645\n",
      "Epoch 82/100\n",
      "8000/8000 [==============================] - 0s 52us/sample - loss: 0.3347 - acc: 0.8630\n",
      "Epoch 83/100\n",
      "8000/8000 [==============================] - 0s 51us/sample - loss: 0.3348 - acc: 0.8639\n",
      "Epoch 84/100\n",
      "8000/8000 [==============================] - 0s 51us/sample - loss: 0.3340 - acc: 0.8620\n",
      "Epoch 85/100\n",
      "8000/8000 [==============================] - 0s 54us/sample - loss: 0.3348 - acc: 0.8637\n",
      "Epoch 86/100\n",
      "8000/8000 [==============================] - 0s 51us/sample - loss: 0.3341 - acc: 0.8636\n",
      "Epoch 87/100\n",
      "8000/8000 [==============================] - 0s 51us/sample - loss: 0.3342 - acc: 0.8645\n",
      "Epoch 88/100\n",
      "8000/8000 [==============================] - 0s 52us/sample - loss: 0.3337 - acc: 0.8652\n",
      "Epoch 89/100\n",
      "8000/8000 [==============================] - 0s 50us/sample - loss: 0.3337 - acc: 0.8604\n",
      "Epoch 90/100\n",
      "8000/8000 [==============================] - 0s 51us/sample - loss: 0.3338 - acc: 0.8650\n",
      "Epoch 91/100\n",
      "8000/8000 [==============================] - 0s 51us/sample - loss: 0.3338 - acc: 0.8630\n",
      "Epoch 92/100\n",
      "8000/8000 [==============================] - 0s 56us/sample - loss: 0.3334 - acc: 0.8636\n",
      "Epoch 93/100\n",
      "8000/8000 [==============================] - 1s 67us/sample - loss: 0.3330 - acc: 0.8643\n",
      "Epoch 94/100\n",
      "8000/8000 [==============================] - 0s 56us/sample - loss: 0.3331 - acc: 0.8651\n",
      "Epoch 95/100\n",
      "8000/8000 [==============================] - 0s 51us/sample - loss: 0.3331 - acc: 0.8636\n",
      "Epoch 96/100\n",
      "8000/8000 [==============================] - 0s 50us/sample - loss: 0.3333 - acc: 0.8636\n",
      "Epoch 97/100\n",
      "8000/8000 [==============================] - 0s 54us/sample - loss: 0.3330 - acc: 0.8641\n",
      "Epoch 98/100\n",
      "8000/8000 [==============================] - 1s 63us/sample - loss: 0.3335 - acc: 0.8630\n",
      "Epoch 99/100\n",
      "8000/8000 [==============================] - 0s 56us/sample - loss: 0.3331 - acc: 0.8633\n",
      "Epoch 100/100\n",
      "8000/8000 [==============================] - 1s 71us/sample - loss: 0.3323 - acc: 0.8640\n"
     ]
    },
    {
     "data": {
      "text/plain": [
       "<tensorflow.python.keras.callbacks.History at 0x28c3576a788>"
      ]
     },
     "execution_count": 18,
     "metadata": {},
     "output_type": "execute_result"
    }
   ],
   "source": [
    "ann.fit(X_train, y_train, batch_size = 32, epochs = 100)"
   ]
  },
  {
   "cell_type": "markdown",
   "metadata": {
    "colab_type": "text",
    "id": "tJj5k2MxZga3"
   },
   "source": [
    "## Part 3 - Making the predictions and evaluating the model"
   ]
  },
  {
   "cell_type": "markdown",
   "metadata": {
    "colab_type": "text",
    "id": "u7yx47jPZt11"
   },
   "source": [
    "### Predicting the Test set results"
   ]
  },
  {
   "cell_type": "code",
   "execution_count": 19,
   "metadata": {
    "colab": {
     "base_uri": "https://localhost:8080/",
     "height": 134
    },
    "colab_type": "code",
    "executionInfo": {
     "elapsed": 31748,
     "status": "ok",
     "timestamp": 1586428405581,
     "user": {
      "displayName": "Hadelin de Ponteves",
      "photoUrl": "https://lh3.googleusercontent.com/a-/AOh14GhEuXdT7eQweUmRPW8_laJuPggSK6hfvpl5a6WBaA=s64",
      "userId": "15047218817161520419"
     },
     "user_tz": -240
    },
    "id": "nIyEeQdRZwgs",
    "outputId": "a0f4d9ad-9a29-41dc-b101-9e7216d74dc0"
   },
   "outputs": [
    {
     "name": "stdout",
     "output_type": "stream",
     "text": [
      "[[0 0]\n",
      " [0 1]\n",
      " [0 0]\n",
      " ...\n",
      " [0 0]\n",
      " [0 0]\n",
      " [0 0]]\n"
     ]
    }
   ],
   "source": [
    "y_pred = ann.predict(X_test)\n",
    "y_pred = (y_pred > 0.5)\n",
    "print(np.concatenate((y_pred.reshape(len(y_pred),1), y_test.reshape(len(y_test),1)),1))"
   ]
  },
  {
   "cell_type": "markdown",
   "metadata": {
    "colab_type": "text",
    "id": "o0oyfLWoaEGw"
   },
   "source": [
    "### Making the Confusion Matrix"
   ]
  },
  {
   "cell_type": "code",
   "execution_count": 20,
   "metadata": {
    "colab": {
     "base_uri": "https://localhost:8080/",
     "height": 50
    },
    "colab_type": "code",
    "executionInfo": {
     "elapsed": 31746,
     "status": "ok",
     "timestamp": 1586428405581,
     "user": {
      "displayName": "Hadelin de Ponteves",
      "photoUrl": "https://lh3.googleusercontent.com/a-/AOh14GhEuXdT7eQweUmRPW8_laJuPggSK6hfvpl5a6WBaA=s64",
      "userId": "15047218817161520419"
     },
     "user_tz": -240
    },
    "id": "ci6K_r6LaF6P",
    "outputId": "09bd315f-7091-457f-b222-ce3998de57a5"
   },
   "outputs": [
    {
     "name": "stdout",
     "output_type": "stream",
     "text": [
      "[[1514   81]\n",
      " [ 198  207]]\n"
     ]
    }
   ],
   "source": [
    "from sklearn.metrics import confusion_matrix\n",
    "cm = confusion_matrix(y_test, y_pred)\n",
    "print(cm)"
   ]
  },
  {
   "cell_type": "code",
   "execution_count": 21,
   "metadata": {},
   "outputs": [
    {
     "name": "stdout",
     "output_type": "stream",
     "text": [
      "Accuracy :  0.8605\n"
     ]
    }
   ],
   "source": [
    "from sklearn.metrics import accuracy_score\n",
    "print(\"Accuracy : \",accuracy_score(y_test, y_pred))"
   ]
  },
  {
   "cell_type": "code",
   "execution_count": null,
   "metadata": {},
   "outputs": [],
   "source": []
  }
 ],
 "metadata": {
  "colab": {
   "authorship_tag": "ABX9TyMwbl0jJoa05wuIU59y39H3",
   "collapsed_sections": [],
   "name": "Artificial Neural Network",
   "provenance": []
  },
  "kernelspec": {
   "display_name": "Python 3",
   "language": "python",
   "name": "python3"
  },
  "language_info": {
   "codemirror_mode": {
    "name": "ipython",
    "version": 3
   },
   "file_extension": ".py",
   "mimetype": "text/x-python",
   "name": "python",
   "nbconvert_exporter": "python",
   "pygments_lexer": "ipython3",
   "version": "3.7.4"
  }
 },
 "nbformat": 4,
 "nbformat_minor": 1
}
